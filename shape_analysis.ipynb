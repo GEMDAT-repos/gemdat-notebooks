{
 "cells": [
  {
   "cell_type": "markdown",
   "id": "2d3feb2e-9589-4039-8d81-d75e143f0c6b",
   "metadata": {},
   "source": [
    "# Shape analysis\n",
    "\n",
    "This notebook shows how to perform shape analysis using [GEMDAT](https://gemdat.readthedocs.org). \n",
    "\n",
    "This uses a generalized algorithm that for all symmetrically equivalent cluster centers, finds nearest atoms from trajectory, and transforms them back to the asymmetric unit. This helps the statistics for performing shape analysis and making plots.\n",
    "\n",
    "As input you will need:\n",
    "\n",
    "1. [symmetrized crystal or material structure](https://pymatgen.org/pymatgen.symmetry.html#pymatgen.symmetry.structure.SymmetrizedStructure)\n",
    "    - contains unique sites to act as cluster centers (asymmetic unit)\n",
    "    - provides symmetry operations\n",
    "    - Gemdat uses [SpacegroupAnalyzer](https://pymatgen.org/pymatgen.symmetry.html#pymatgen.symmetry.analyzer.SpacegroupAnalyzer) to find symmetry in P1 structures\n",
    "2. [trajectory](https://pymatgen.org/pymatgen.symmetry.html#pymatgen.symmetry.analyzer.SpacegroupAnalyzer)\n",
    "    - typically P1\n",
    "    - maybe a supercell of the structure in #1\n",
    "    - lattice can be triclinic (non-constrained in simulation)\n",
    "\n",
    "The `ShapeAnalyzer` algorithm works as follows:\n",
    "\n",
    "1. reduce supercell of trajectory to match clusters\n",
    "    - assert trajectory and cluster lattices are similar\n",
    "2. for every unique center:\n",
    "    - for every symmetry operation:\n",
    "        - apply symmetry operation to center coordinates\n",
    "        - find all trajectory points within X distance of transformed coordinates (wrap around pbc)\n",
    "        - copy and map points back to asymmetric unit (reverse symmetry op)\n",
    "        - subtract center coords\n",
    "    - concatenate all coords and convert to Cartesian coordinate system\n",
    "\n",
    "The result is a set of trajectory positions centered on the input sites. These can be used to perform shape analysis: plots, fits, heat maps, msd, etc.\n",
    "\n",
    "See: https://github.com/GEMDAT-repos/GEMDAT/pull/166"
   ]
  },
  {
   "cell_type": "markdown",
   "id": "41f2187b-6121-4187-bbaa-7e75d08f202b",
   "metadata": {},
   "source": [
    "## Loading data\n",
    "\n",
    "Loading trajectory for argyrodite and cif file with 3 unique sites as cluster centers."
   ]
  },
  {
   "cell_type": "code",
   "execution_count": null,
   "id": "fa85efaa-2443-4579-ab75-b40dbaab6ea1",
   "metadata": {},
   "outputs": [],
   "source": [
    "from pathlib import Path\n",
    "\n",
    "from gemdat import Trajectory, load_known_material\n",
    "\n",
    "from gemdat.utils import VASPRUN\n",
    "\n",
    "# Use your own data:\n",
    "# VASPRUN = 'path/to/your/vasprun.xml'\n",
    "\n",
    "trajectory = Trajectory.from_vasprun(VASPRUN)\n",
    "diff_trajectory = trajectory.filter('Li')\n",
    "\n",
    "structure = load_known_material('argyrodite', supercell=(2, 1, 1))"
   ]
  },
  {
   "cell_type": "markdown",
   "id": "caa02d8a-dbc2-4be8-9860-879401b0452f",
   "metadata": {},
   "source": [
    "## Set up shape analyzer\n",
    "\n",
    "Note that the we use the `.from_structure` constructor. This symmetrizes the input structure."
   ]
  },
  {
   "cell_type": "code",
   "execution_count": null,
   "id": "42942f94-091f-4347-8e7e-01a2091484cc",
   "metadata": {},
   "outputs": [],
   "source": [
    "from gemdat.shape import ShapeAnalyzer\n",
    "\n",
    "sa = ShapeAnalyzer.from_structure(structure)\n",
    "sa"
   ]
  },
  {
   "cell_type": "markdown",
   "id": "8cd13458-4290-4447-a9c1-6f12baaca442",
   "metadata": {},
   "source": [
    "## Clustering\n",
    "\n",
    "The next cell shows how to run the shape analysis. The radius in Ångström is used to determine if an atom belongs to a cluster.\n",
    "\n",
    "The supercell is used to fold the trajectory coordinates to the same lattice as the input sites. A warning will be raised if the lattices are not close.\n",
    "\n",
    "Alternatively, you can pass any numpy array with fractional coordinates to `sa.analyze_positions()`"
   ]
  },
  {
   "cell_type": "code",
   "execution_count": null,
   "id": "a5990876-0c6a-4e1f-b9e7-cc49ba6e56fb",
   "metadata": {},
   "outputs": [],
   "source": [
    "supercell = (2, 1, 1)\n",
    "radius = 1.5  # Å\n",
    "\n",
    "shapes = sa.analyze_trajectory(\n",
    "    trajectory=diff_trajectory,\n",
    "    supercell=supercell,\n",
    "    radius=radius,\n",
    ")\n",
    "\n",
    "shapes[0]"
   ]
  },
  {
   "cell_type": "markdown",
   "id": "9aa53319-29f5-406b-9aaa-0d20065c4ab2",
   "metadata": {},
   "source": [
    "## Plot shapes\n",
    "\n",
    "Shape data can be plotted using the `plots` module. This shows each set of shape coordinates from all three directions."
   ]
  },
  {
   "cell_type": "code",
   "execution_count": null,
   "id": "2bff5b84-55f2-4bc2-aa8d-2f91e9c0fbdb",
   "metadata": {},
   "outputs": [],
   "source": [
    "import matplotlib.pyplot as plt\n",
    "import numpy as np\n",
    "import gemdat.plots.matplotlib as gemplt\n",
    "\n",
    "bins = np.linspace(-radius, radius, 50)\n",
    "\n",
    "for shape in shapes:\n",
    "    fig = shape.plot(nbins=len(bins))\n",
    "    fig.show()\n",
    "    \n",
    "    gemplt.shape(shape=shape,bins=bins)\n",
    "    plt.show()\n"
   ]
  },
  {
   "cell_type": "markdown",
   "id": "3e306033-afbd-45b2-a13c-b403d4940023",
   "metadata": {},
   "source": [
    "## Plot nearby sites\n",
    "\n",
    "You can supply a nearby sites to display them on the plot."
   ]
  },
  {
   "cell_type": "code",
   "execution_count": null,
   "id": "474bfc78-d161-4bb1-9e7d-a49180cb00d1",
   "metadata": {},
   "outputs": [],
   "source": [
    "shape = shapes[0]\n",
    "\n",
    "sites = structure.get_sites_in_sphere(pt=shape.origin, r=radius)\n",
    "\n",
    "fig = shape.plot(nbins=len(bins), sites=sites);\n",
    "fig.show()\n",
    "    \n",
    "gemplt.shape(shape=shape,bins=bins, sites=sites)\n",
    "plt.show()"
   ]
  },
  {
   "cell_type": "markdown",
   "id": "4f580e67-1e1f-4ed9-aa4d-4d4c022cd468",
   "metadata": {},
   "source": [
    "## Optimize sites\n",
    "\n",
    "You can optimize the site positions using the `ShapeAnalyzer.optimize_sites()` method. This uses the centroid of the shapes to shift the sites."
   ]
  },
  {
   "cell_type": "code",
   "execution_count": null,
   "id": "e7ca1ec7-977b-429c-b556-693e9eaef348",
   "metadata": {},
   "outputs": [],
   "source": [
    "sa_shifted = sa.optimize_sites(shapes=shapes)\n",
    "sa_shifted"
   ]
  },
  {
   "cell_type": "code",
   "execution_count": null,
   "id": "09018152-500b-443e-b873-3d7bfc94eeae",
   "metadata": {},
   "outputs": [],
   "source": [
    "shapes = sa_shifted.analyze_trajectory(\n",
    "    trajectory=diff_trajectory,\n",
    "    supercell=supercell,\n",
    "    radius=radius,\n",
    ")\n",
    "\n",
    "for shape in shapes:\n",
    "    fig = shape.plot(nbins=len(bins))\n",
    "    fig.show()\n",
    "    \n",
    "    gemplt.shape(shape=shape,bins=bins)\n",
    "    plt.show()"
   ]
  },
  {
   "cell_type": "markdown",
   "id": "553adf2a-8f53-4713-8f21-f08125221b7b",
   "metadata": {},
   "source": [
    "## Custom shifts\n",
    "\n",
    "You can also use your own vectors to shift the sites:"
   ]
  },
  {
   "cell_type": "code",
   "execution_count": null,
   "id": "d4c9f07c-2be7-472a-a452-a0197444d1a5",
   "metadata": {},
   "outputs": [],
   "source": [
    "vectors = (\n",
    "    [1, 0, 0],\n",
    "    [2, 0, 0],\n",
    "    [3, 0, 0],\n",
    ")\n",
    "\n",
    "sa_shifted = sa.shift_sites(vectors=vectors)\n",
    "sa_shifted"
   ]
  },
  {
   "cell_type": "markdown",
   "id": "e2562be6-9b30-41c5-b7a9-534d7a7d3ba4",
   "metadata": {},
   "source": [
    "## Get structure\n",
    "\n",
    "Use `ShapeAnalyzer.get_structure()` to retrieve a pymatgen `Structure` object back:"
   ]
  },
  {
   "cell_type": "code",
   "execution_count": null,
   "id": "96fd3d3b-df3b-46b1-b8c8-f4b72aa4770b",
   "metadata": {},
   "outputs": [],
   "source": [
    "sa_shifted = sa_shifted.to_structure()\n",
    "sa_shifted"
   ]
  }
 ],
 "metadata": {
  "kernelspec": {
   "display_name": "Python 3 (ipykernel)",
   "language": "python",
   "name": "python3"
  },
  "language_info": {
   "codemirror_mode": {
    "name": "ipython",
    "version": 3
   },
   "file_extension": ".py",
   "mimetype": "text/x-python",
   "name": "python",
   "nbconvert_exporter": "python",
   "pygments_lexer": "ipython3",
   "version": "3.10.12"
  }
 },
 "nbformat": 4,
 "nbformat_minor": 5
}
