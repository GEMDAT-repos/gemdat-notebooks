{
 "cells": [
  {
   "cell_type": "code",
   "execution_count": 1,
   "id": "8c2bc363-8183-496c-ad5f-82bb43afa4e1",
   "metadata": {
    "tags": []
   },
   "outputs": [
    {
     "name": "stderr",
     "output_type": "stream",
     "text": [
      "/home/stef/python/gemdat/.venv/lib64/python3.12/site-packages/MDAnalysis/topology/TPRParser.py:161: DeprecationWarning: 'xdrlib' is deprecated and slated for removal in Python 3.13\n",
      "  import xdrlib\n"
     ]
    }
   ],
   "source": [
    "from pathlib import Path\n",
    "\n",
    "from IPython.display import HTML\n",
    "\n",
    "from gemdat import Jumps, Trajectory, plots\n",
    "\n",
    "from gemdat.utils import VASPRUN"
   ]
  },
  {
   "cell_type": "code",
   "execution_count": 2,
   "id": "4e8b03b4-a6d4-44ab-b683-e46fbb1d1e08",
   "metadata": {
    "tags": []
   },
   "outputs": [
    {
     "data": {
      "text/plain": [
       "Full Formula (Li48)\n",
       "Reduced Formula: Li\n",
       "abc   :  19.873726   9.919447   9.916454\n",
       "angles:  90.214114  90.859135  89.950474\n",
       "pbc   :       True       True       True\n",
       "Constant lattice (True)\n",
       "Sites (48)\n",
       "Time steps (5000)"
      ]
     },
     "execution_count": 2,
     "metadata": {},
     "output_type": "execute_result"
    }
   ],
   "source": [
    "# Get our trajectory\n",
    "trajectory = Trajectory.from_vasprun(VASPRUN)\n",
    "\n",
    "# Create a new trajectory object that only consists of Lithium\n",
    "diff_trajectory = trajectory.filter('Li')\n",
    "diff_trajectory"
   ]
  },
  {
   "cell_type": "markdown",
   "id": "02dc4c21-cce8-4f98-b042-7bc09ab33381",
   "metadata": {},
   "source": [
    "### Converting a Trajectory to a Volume\n",
    "\n",
    "To convert a `Trajectory` to a Sites object we use the `gemdat.volume.trajectory_to_volume` function provided by gemdat. This function converts a Trajectory to a Volume, a volume in this context is a discretized version of the volume, in which each point in the trajectory is assigned to a bin, and the number of points in bins is counted."
   ]
  },
  {
   "cell_type": "code",
   "execution_count": 3,
   "id": "6bbf08ba-b210-4d88-8c65-5203503d438e",
   "metadata": {
    "tags": []
   },
   "outputs": [],
   "source": [
    "# Lets create a volume from our trajectory of diffusive elements\n",
    "from gemdat.volume import trajectory_to_volume\n",
    "\n",
    "# Resolution is the minimum size of the voxels in Angstrom\n",
    "diff_volume = trajectory_to_volume(diff_trajectory, resolution=0.3)"
   ]
  },
  {
   "cell_type": "markdown",
   "id": "71ba5073-e079-449c-9dce-db203caa5cfb",
   "metadata": {
    "tags": []
   },
   "source": [
    "### Converting a Volume to Sites\n",
    "\n",
    "We can directly convert a volume to a structure with the  `Volume.to_structure` method. This uses a [watershed](https://scikit-image.org/docs/stable/auto_examples/segmentation/plot_watershed.html) algorithm to find the sites.\n",
    "\n",
    "various helper functions are available to the Volume object that can be used for various purposes [gemdat.Volume API](https://gemdat.readthedocs.io/en/latest/api/gemdat_volume/), for example finding peaks or converting a Volume to a vasp file"
   ]
  },
  {
   "cell_type": "code",
   "execution_count": 8,
   "id": "b3051a98-b0f1-41b2-8585-30aaeda000bb",
   "metadata": {
    "tags": []
   },
   "outputs": [
    {
     "data": {
      "text/plain": [
       "[PeriodicSite: Li (7.214, 5.229, 2.009) [0.3636, 0.5273, 0.2091],\n",
       " PeriodicSite: Li (8.248, 5.08, 3.038) [0.4161, 0.5123, 0.3137],\n",
       " PeriodicSite: Li (3.125, 8.8, 5.397) [0.1591, 0.8879, 0.5485],\n",
       " PeriodicSite: Li (4.325, 8.024, 5.877) [0.2197, 0.8098, 0.5976],\n",
       " PeriodicSite: Li (3.117, 9.76, 6.566) [0.1591, 0.9848, 0.6667],\n",
       " PeriodicSite: Li (1.977, 9.701, 7.965) [0.1023, 0.9792, 0.8068],\n",
       " PeriodicSite: Li (16.76, 2.665, 9.515) [0.847, 0.2697, 0.9727],\n",
       " PeriodicSite: Li (17.97, 2.203, 9.503) [0.9078, 0.2231, 0.9723],\n",
       " PeriodicSite: Li (11.9, 9.459, 8.221) [0.6019, 0.9545, 0.8401],\n",
       " PeriodicSite: Li (12.21, 8.683, 9.274) [0.6178, 0.8765, 0.9463]]"
      ]
     },
     "execution_count": 8,
     "metadata": {},
     "output_type": "execute_result"
    }
   ],
   "source": [
    "# Now convert it to a structure\n",
    "structure = diff_volume.to_structure(specie='Li', background_level=0.1)\n",
    "structure[0:10]"
   ]
  },
  {
   "cell_type": "code",
   "execution_count": 5,
   "id": "87e5cfe5-4ca4-41f6-97f0-28b492bdc860",
   "metadata": {
    "tags": []
   },
   "outputs": [],
   "source": [
    "# Write it to a vasp file for inspection in external tools\n",
    "diff_volume.to_vasp_volume(structure, filename='/tmp/example.vasp')"
   ]
  },
  {
   "cell_type": "code",
   "execution_count": 9,
   "id": "2bd3de24-798c-48c9-8bae-9c743b80e217",
   "metadata": {
    "tags": []
   },
   "outputs": [],
   "source": [
    "# These sites overlap with neighbours, so remove them\n",
    "del structure.sites[25]\n",
    "del structure.sites[26] \n",
    "\n",
    "# Generate transitions using newly generated structure\n",
    "transitions = trajectory.transitions_between_sites(sites=structure, floating_specie='Li')"
   ]
  },
  {
   "cell_type": "code",
   "execution_count": 10,
   "id": "24116a31-3b4a-4252-8bef-a95d0cd87215",
   "metadata": {},
   "outputs": [
    {
     "ename": "NameError",
     "evalue": "name 'sites' is not defined",
     "output_type": "error",
     "traceback": [
      "\u001b[0;31m---------------------------------------------------------------------------\u001b[0m",
      "\u001b[0;31mNameError\u001b[0m                                 Traceback (most recent call last)",
      "Cell \u001b[0;32mIn[10], line 1\u001b[0m\n\u001b[0;32m----> 1\u001b[0m jumps \u001b[38;5;241m=\u001b[39m Jumps(transitions\u001b[38;5;241m=\u001b[39m\u001b[43msites\u001b[49m\u001b[38;5;241m.\u001b[39mtransitions, sites\u001b[38;5;241m=\u001b[39msites, minimal_residence\u001b[38;5;241m=\u001b[39m\u001b[38;5;241m0\u001b[39m)\n",
      "\u001b[0;31mNameError\u001b[0m: name 'sites' is not defined"
     ]
    }
   ],
   "source": [
    "jumps = Jumps(ransitions, sites=sites, minimal_residence=0)"
   ]
  },
  {
   "cell_type": "code",
   "execution_count": null,
   "id": "b509c960-d85e-4af8-9f70-2f3c8d742974",
   "metadata": {
    "tags": []
   },
   "outputs": [],
   "source": [
    "fig = plots.jumps_vs_time(jumps=jumps, n_parts=5)\n",
    "HTML(fig.to_html())"
   ]
  },
  {
   "cell_type": "code",
   "execution_count": null,
   "id": "02b3219a-4082-4fc6-ae16-740263d1ef82",
   "metadata": {
    "tags": []
   },
   "outputs": [],
   "source": [
    "_ = plots.jumps_3d(jumps=jumps)"
   ]
  },
  {
   "cell_type": "code",
   "execution_count": null,
   "id": "44884e71-74ba-4446-ad6b-283fe34c884c",
   "metadata": {},
   "outputs": [],
   "source": []
  }
 ],
 "metadata": {
  "kernelspec": {
   "display_name": "Python 3 (ipykernel)",
   "language": "python",
   "name": "python3"
  },
  "language_info": {
   "codemirror_mode": {
    "name": "ipython",
    "version": 3
   },
   "file_extension": ".py",
   "mimetype": "text/x-python",
   "name": "python",
   "nbconvert_exporter": "python",
   "pygments_lexer": "ipython3",
   "version": "3.12.1"
  }
 },
 "nbformat": 4,
 "nbformat_minor": 5
}
